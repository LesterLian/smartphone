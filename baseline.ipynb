{
 "metadata": {
  "language_info": {
   "codemirror_mode": {
    "name": "ipython",
    "version": 3
   },
   "file_extension": ".py",
   "mimetype": "text/x-python",
   "name": "python",
   "nbconvert_exporter": "python",
   "pygments_lexer": "ipython3",
   "version": "3.7.10"
  },
  "orig_nbformat": 2,
  "kernelspec": {
   "name": "python3710jvsc74a57bd0ad53eefe2d8c9d819ae3ab219ad0acb4fcc3dcbc7b343085b6058f501f3e70e2",
   "display_name": "Python 3.7.10 64-bit ('light': conda)"
  }
 },
 "nbformat": 4,
 "nbformat_minor": 2,
 "cells": [
  {
   "cell_type": "code",
   "execution_count": 1,
   "metadata": {},
   "outputs": [],
   "source": [
    "from pathlib import Path\n",
    "import pandas as pd"
   ]
  },
  {
   "cell_type": "code",
   "execution_count": 2,
   "metadata": {},
   "outputs": [],
   "source": [
    "data_path = Path('/home/akio/data/google-smartphone-decimeter-challenge/')"
   ]
  },
  {
   "cell_type": "code",
   "execution_count": 3,
   "metadata": {},
   "outputs": [],
   "source": [
    "test_base = pd.read_csv(\n",
    "    data_path / 'baseline_locations_test.csv'\n",
    ")\n",
    "sub = pd.read_csv(\n",
    "    data_path / 'sample_submission.csv'\n",
    ")"
   ]
  },
  {
   "cell_type": "code",
   "execution_count": 4,
   "metadata": {},
   "outputs": [
    {
     "output_type": "execute_result",
     "data": {
      "text/plain": [
       "        collectionName phoneName  millisSinceGpsEpoch     latDeg      lngDeg  \\\n",
       "0  2020-05-15-US-MTV-1    Pixel4        1273608785432  37.416628 -122.082053   \n",
       "1  2020-05-15-US-MTV-1    Pixel4        1273608786432  37.416646 -122.082040   \n",
       "2  2020-05-15-US-MTV-1    Pixel4        1273608787432  37.416652 -122.082039   \n",
       "3  2020-05-15-US-MTV-1    Pixel4        1273608788432  37.416607 -122.082063   \n",
       "4  2020-05-15-US-MTV-1    Pixel4        1273608789432  37.416609 -122.082073   \n",
       "\n",
       "   heightAboveWgs84EllipsoidM                       phone  \n",
       "0                      -30.69  2020-05-15-US-MTV-1_Pixel4  \n",
       "1                      -31.76  2020-05-15-US-MTV-1_Pixel4  \n",
       "2                      -31.65  2020-05-15-US-MTV-1_Pixel4  \n",
       "3                      -31.52  2020-05-15-US-MTV-1_Pixel4  \n",
       "4                      -28.95  2020-05-15-US-MTV-1_Pixel4  "
      ],
      "text/html": "<div>\n<style scoped>\n    .dataframe tbody tr th:only-of-type {\n        vertical-align: middle;\n    }\n\n    .dataframe tbody tr th {\n        vertical-align: top;\n    }\n\n    .dataframe thead th {\n        text-align: right;\n    }\n</style>\n<table border=\"1\" class=\"dataframe\">\n  <thead>\n    <tr style=\"text-align: right;\">\n      <th></th>\n      <th>collectionName</th>\n      <th>phoneName</th>\n      <th>millisSinceGpsEpoch</th>\n      <th>latDeg</th>\n      <th>lngDeg</th>\n      <th>heightAboveWgs84EllipsoidM</th>\n      <th>phone</th>\n    </tr>\n  </thead>\n  <tbody>\n    <tr>\n      <th>0</th>\n      <td>2020-05-15-US-MTV-1</td>\n      <td>Pixel4</td>\n      <td>1273608785432</td>\n      <td>37.416628</td>\n      <td>-122.082053</td>\n      <td>-30.69</td>\n      <td>2020-05-15-US-MTV-1_Pixel4</td>\n    </tr>\n    <tr>\n      <th>1</th>\n      <td>2020-05-15-US-MTV-1</td>\n      <td>Pixel4</td>\n      <td>1273608786432</td>\n      <td>37.416646</td>\n      <td>-122.082040</td>\n      <td>-31.76</td>\n      <td>2020-05-15-US-MTV-1_Pixel4</td>\n    </tr>\n    <tr>\n      <th>2</th>\n      <td>2020-05-15-US-MTV-1</td>\n      <td>Pixel4</td>\n      <td>1273608787432</td>\n      <td>37.416652</td>\n      <td>-122.082039</td>\n      <td>-31.65</td>\n      <td>2020-05-15-US-MTV-1_Pixel4</td>\n    </tr>\n    <tr>\n      <th>3</th>\n      <td>2020-05-15-US-MTV-1</td>\n      <td>Pixel4</td>\n      <td>1273608788432</td>\n      <td>37.416607</td>\n      <td>-122.082063</td>\n      <td>-31.52</td>\n      <td>2020-05-15-US-MTV-1_Pixel4</td>\n    </tr>\n    <tr>\n      <th>4</th>\n      <td>2020-05-15-US-MTV-1</td>\n      <td>Pixel4</td>\n      <td>1273608789432</td>\n      <td>37.416609</td>\n      <td>-122.082073</td>\n      <td>-28.95</td>\n      <td>2020-05-15-US-MTV-1_Pixel4</td>\n    </tr>\n  </tbody>\n</table>\n</div>"
     },
     "metadata": {},
     "execution_count": 4
    }
   ],
   "source": [
    "test_base.head()"
   ]
  },
  {
   "cell_type": "code",
   "execution_count": 5,
   "metadata": {},
   "outputs": [
    {
     "output_type": "execute_result",
     "data": {
      "text/plain": [
       "                        phone  millisSinceGpsEpoch     latDeg     lngDeg\n",
       "0  2020-05-15-US-MTV-1_Pixel4        1273608785432  37.904611 -86.481078\n",
       "1  2020-05-15-US-MTV-1_Pixel4        1273608786432  37.904611 -86.481078\n",
       "2  2020-05-15-US-MTV-1_Pixel4        1273608787432  37.904611 -86.481078\n",
       "3  2020-05-15-US-MTV-1_Pixel4        1273608788432  37.904611 -86.481078\n",
       "4  2020-05-15-US-MTV-1_Pixel4        1273608789432  37.904611 -86.481078"
      ],
      "text/html": "<div>\n<style scoped>\n    .dataframe tbody tr th:only-of-type {\n        vertical-align: middle;\n    }\n\n    .dataframe tbody tr th {\n        vertical-align: top;\n    }\n\n    .dataframe thead th {\n        text-align: right;\n    }\n</style>\n<table border=\"1\" class=\"dataframe\">\n  <thead>\n    <tr style=\"text-align: right;\">\n      <th></th>\n      <th>phone</th>\n      <th>millisSinceGpsEpoch</th>\n      <th>latDeg</th>\n      <th>lngDeg</th>\n    </tr>\n  </thead>\n  <tbody>\n    <tr>\n      <th>0</th>\n      <td>2020-05-15-US-MTV-1_Pixel4</td>\n      <td>1273608785432</td>\n      <td>37.904611</td>\n      <td>-86.481078</td>\n    </tr>\n    <tr>\n      <th>1</th>\n      <td>2020-05-15-US-MTV-1_Pixel4</td>\n      <td>1273608786432</td>\n      <td>37.904611</td>\n      <td>-86.481078</td>\n    </tr>\n    <tr>\n      <th>2</th>\n      <td>2020-05-15-US-MTV-1_Pixel4</td>\n      <td>1273608787432</td>\n      <td>37.904611</td>\n      <td>-86.481078</td>\n    </tr>\n    <tr>\n      <th>3</th>\n      <td>2020-05-15-US-MTV-1_Pixel4</td>\n      <td>1273608788432</td>\n      <td>37.904611</td>\n      <td>-86.481078</td>\n    </tr>\n    <tr>\n      <th>4</th>\n      <td>2020-05-15-US-MTV-1_Pixel4</td>\n      <td>1273608789432</td>\n      <td>37.904611</td>\n      <td>-86.481078</td>\n    </tr>\n  </tbody>\n</table>\n</div>"
     },
     "metadata": {},
     "execution_count": 5
    }
   ],
   "source": [
    "sub.head()"
   ]
  },
  {
   "cell_type": "code",
   "execution_count": 11,
   "metadata": {},
   "outputs": [],
   "source": [
    "sub.assign(\n",
    "    latDeg = test_base.latDeg,\n",
    "    lngDeg = test_base.lngDeg\n",
    ").to_csv('submission.csv',index=False)"
   ]
  },
  {
   "cell_type": "code",
   "execution_count": 12,
   "metadata": {},
   "outputs": [
    {
     "output_type": "execute_result",
     "data": {
      "text/plain": [
       "                        phone  millisSinceGpsEpoch     latDeg     lngDeg\n",
       "0  2020-05-15-US-MTV-1_Pixel4        1273608785432  37.904611 -86.481078\n",
       "1  2020-05-15-US-MTV-1_Pixel4        1273608786432  37.904611 -86.481078\n",
       "2  2020-05-15-US-MTV-1_Pixel4        1273608787432  37.904611 -86.481078\n",
       "3  2020-05-15-US-MTV-1_Pixel4        1273608788432  37.904611 -86.481078\n",
       "4  2020-05-15-US-MTV-1_Pixel4        1273608789432  37.904611 -86.481078"
      ],
      "text/html": "<div>\n<style scoped>\n    .dataframe tbody tr th:only-of-type {\n        vertical-align: middle;\n    }\n\n    .dataframe tbody tr th {\n        vertical-align: top;\n    }\n\n    .dataframe thead th {\n        text-align: right;\n    }\n</style>\n<table border=\"1\" class=\"dataframe\">\n  <thead>\n    <tr style=\"text-align: right;\">\n      <th></th>\n      <th>phone</th>\n      <th>millisSinceGpsEpoch</th>\n      <th>latDeg</th>\n      <th>lngDeg</th>\n    </tr>\n  </thead>\n  <tbody>\n    <tr>\n      <th>0</th>\n      <td>2020-05-15-US-MTV-1_Pixel4</td>\n      <td>1273608785432</td>\n      <td>37.904611</td>\n      <td>-86.481078</td>\n    </tr>\n    <tr>\n      <th>1</th>\n      <td>2020-05-15-US-MTV-1_Pixel4</td>\n      <td>1273608786432</td>\n      <td>37.904611</td>\n      <td>-86.481078</td>\n    </tr>\n    <tr>\n      <th>2</th>\n      <td>2020-05-15-US-MTV-1_Pixel4</td>\n      <td>1273608787432</td>\n      <td>37.904611</td>\n      <td>-86.481078</td>\n    </tr>\n    <tr>\n      <th>3</th>\n      <td>2020-05-15-US-MTV-1_Pixel4</td>\n      <td>1273608788432</td>\n      <td>37.904611</td>\n      <td>-86.481078</td>\n    </tr>\n    <tr>\n      <th>4</th>\n      <td>2020-05-15-US-MTV-1_Pixel4</td>\n      <td>1273608789432</td>\n      <td>37.904611</td>\n      <td>-86.481078</td>\n    </tr>\n  </tbody>\n</table>\n</div>"
     },
     "metadata": {},
     "execution_count": 12
    }
   ],
   "source": [
    "sub.head()"
   ]
  },
  {
   "cell_type": "code",
   "execution_count": 13,
   "metadata": {},
   "outputs": [],
   "source": [
    "import numpy as np \n",
    "from tqdm.notebook import tqdm"
   ]
  },
  {
   "cell_type": "code",
   "execution_count": 21,
   "metadata": {},
   "outputs": [],
   "source": [
    "truths = (data_path / 'train').rglob('ground_truth.csv')"
   ]
  },
  {
   "cell_type": "code",
   "execution_count": 22,
   "metadata": {},
   "outputs": [
    {
     "output_type": "display_data",
     "data": {
      "text/plain": "  0%|          | 0/73 [00:00<?, ?it/s]",
      "application/vnd.jupyter.widget-view+json": {
       "version_major": 2,
       "version_minor": 0,
       "model_id": "891f60b7eafa4ed8be05befe7e8dd9ba"
      }
     },
     "metadata": {}
    }
   ],
   "source": [
    "\n",
    "df_list = []\n",
    "cols = ['collectionName','phoneName','millisSinceGpsEpoch','latDeg','lngDeg']\n",
    "\n",
    "for t in tqdm(truths,total=73):\n",
    "    df_phone = pd.read_csv(t,usecols=cols)\n",
    "    df_list.append(df_phone)\n",
    "\n",
    "df_truth = pd.concat(df_list,ignore_index=True)\n",
    "\n",
    "df_basepreds = pd.read_csv(data_path / 'baseline_locations_train.csv',usecols=cols)"
   ]
  },
  {
   "cell_type": "code",
   "execution_count": 27,
   "metadata": {},
   "outputs": [],
   "source": [
    "df_all = df_truth.merge(df_basepreds, how='inner', on=cols[:3], suffixes=('_truth', '_basepred'))"
   ]
  },
  {
   "cell_type": "code",
   "execution_count": 28,
   "metadata": {},
   "outputs": [
    {
     "output_type": "execute_result",
     "data": {
      "text/plain": [
       "        collectionName phoneName  millisSinceGpsEpoch  latDeg_truth  \\\n",
       "0  2020-05-29-US-MTV-2  Pixel4XL        1274830058447     37.523273   \n",
       "1  2020-05-29-US-MTV-2  Pixel4XL        1274830059447     37.523273   \n",
       "2  2020-05-29-US-MTV-2  Pixel4XL        1274830060447     37.523273   \n",
       "3  2020-05-29-US-MTV-2  Pixel4XL        1274830061447     37.523273   \n",
       "4  2020-05-29-US-MTV-2  Pixel4XL        1274830062447     37.523273   \n",
       "\n",
       "   lngDeg_truth  latDeg_basepred  lngDeg_basepred  \n",
       "0   -122.354286        37.523279      -122.354322  \n",
       "1   -122.354286        37.523294      -122.354297  \n",
       "2   -122.354286        37.523292      -122.354307  \n",
       "3   -122.354286        37.523278      -122.354304  \n",
       "4   -122.354286        37.523281      -122.354304  "
      ],
      "text/html": "<div>\n<style scoped>\n    .dataframe tbody tr th:only-of-type {\n        vertical-align: middle;\n    }\n\n    .dataframe tbody tr th {\n        vertical-align: top;\n    }\n\n    .dataframe thead th {\n        text-align: right;\n    }\n</style>\n<table border=\"1\" class=\"dataframe\">\n  <thead>\n    <tr style=\"text-align: right;\">\n      <th></th>\n      <th>collectionName</th>\n      <th>phoneName</th>\n      <th>millisSinceGpsEpoch</th>\n      <th>latDeg_truth</th>\n      <th>lngDeg_truth</th>\n      <th>latDeg_basepred</th>\n      <th>lngDeg_basepred</th>\n    </tr>\n  </thead>\n  <tbody>\n    <tr>\n      <th>0</th>\n      <td>2020-05-29-US-MTV-2</td>\n      <td>Pixel4XL</td>\n      <td>1274830058447</td>\n      <td>37.523273</td>\n      <td>-122.354286</td>\n      <td>37.523279</td>\n      <td>-122.354322</td>\n    </tr>\n    <tr>\n      <th>1</th>\n      <td>2020-05-29-US-MTV-2</td>\n      <td>Pixel4XL</td>\n      <td>1274830059447</td>\n      <td>37.523273</td>\n      <td>-122.354286</td>\n      <td>37.523294</td>\n      <td>-122.354297</td>\n    </tr>\n    <tr>\n      <th>2</th>\n      <td>2020-05-29-US-MTV-2</td>\n      <td>Pixel4XL</td>\n      <td>1274830060447</td>\n      <td>37.523273</td>\n      <td>-122.354286</td>\n      <td>37.523292</td>\n      <td>-122.354307</td>\n    </tr>\n    <tr>\n      <th>3</th>\n      <td>2020-05-29-US-MTV-2</td>\n      <td>Pixel4XL</td>\n      <td>1274830061447</td>\n      <td>37.523273</td>\n      <td>-122.354286</td>\n      <td>37.523278</td>\n      <td>-122.354304</td>\n    </tr>\n    <tr>\n      <th>4</th>\n      <td>2020-05-29-US-MTV-2</td>\n      <td>Pixel4XL</td>\n      <td>1274830062447</td>\n      <td>37.523273</td>\n      <td>-122.354286</td>\n      <td>37.523281</td>\n      <td>-122.354304</td>\n    </tr>\n  </tbody>\n</table>\n</div>"
     },
     "metadata": {},
     "execution_count": 28
    }
   ],
   "source": [
    "df_all.head()"
   ]
  },
  {
   "cell_type": "code",
   "execution_count": 35,
   "metadata": {},
   "outputs": [],
   "source": [
    "def calc_haversine(lat1, lon1, lat2, lon2):\n",
    "    \"\"\"Calculates the great circle distance between two points\n",
    "    on the earth. Inputs are array-like and specified in decimal degrees.\n",
    "    \"\"\"\n",
    "    RADIUS = 6_367_000\n",
    "    lat1, lon1, lat2, lon2 = map(np.radians, [lat1, lon1, lat2, lon2])\n",
    "    dlat = lat2 - lat1\n",
    "    dlon = lon2 - lon1\n",
    "    a = np.sin(dlat/2)**2 + \\\n",
    "        np.cos(lat1) * np.cos(lat2) * np.sin(dlon/2)**2\n",
    "    dist = 2 * RADIUS * np.arcsin(a**0.5)\n",
    "    return dist"
   ]
  },
  {
   "cell_type": "code",
   "execution_count": 36,
   "metadata": {},
   "outputs": [],
   "source": [
    "df_all['dist'] = calc_haversine(df_all.latDeg_truth, df_all.lngDeg_truth, \n",
    "    df_all.latDeg_basepred, df_all.lngDeg_basepred)"
   ]
  },
  {
   "cell_type": "code",
   "execution_count": 37,
   "metadata": {},
   "outputs": [
    {
     "output_type": "execute_result",
     "data": {
      "text/plain": [
       "3.8468483749952074"
      ]
     },
     "metadata": {},
     "execution_count": 37
    }
   ],
   "source": [
    "df_all.dist.mean()\n"
   ]
  },
  {
   "cell_type": "code",
   "execution_count": null,
   "metadata": {},
   "outputs": [],
   "source": []
  }
 ]
}